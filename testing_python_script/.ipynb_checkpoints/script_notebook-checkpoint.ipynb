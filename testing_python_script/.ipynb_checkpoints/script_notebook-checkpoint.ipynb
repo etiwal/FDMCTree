{
 "cells": [
  {
   "cell_type": "code",
   "execution_count": 1,
   "metadata": {
    "scrolled": true
   },
   "outputs": [],
   "source": [
    "import pandas as pd\n",
    "import numpy as np\n",
    "import datetime\n",
    "import subprocess\n",
    "import os\n",
    "import shlex"
   ]
  },
  {
   "cell_type": "code",
   "execution_count": 2,
   "metadata": {},
   "outputs": [],
   "source": [
    "def get_cmd_string(input_list, mode):\n",
    "    \n",
    "    assert(len(input_list) == 7)\n",
    "    assert((mode == 'ee') | (mode == 'obst'))\n",
    "    \n",
    "    if mode == 'ee':\n",
    "        string_prefix = \"rostopic pub -r 10 /end_effector_pose_desired geometry_msgs/PoseStamped  \"\n",
    "    elif mode == 'obst':\n",
    "        string_prefix = \"rostopic pub -r 10 /obstacle geometry_msgs/PoseStamped  \"\n",
    "        \n",
    "    cmd_string = string_prefix + \"'\"+'{pose: {position:  {x: '+input_list[0]+', y: '+input_list[1]+', z: '+input_list[2]+'}, orientation: {x: '+input_list[3]+',y: '+input_list[4]+',z: '+input_list[5]+', w: '+input_list[6]+'}}}'+\"'\" \n",
    "    \n",
    "    return cmd_string"
   ]
  },
  {
   "cell_type": "code",
   "execution_count": 3,
   "metadata": {},
   "outputs": [
    {
     "data": {
      "text/html": [
       "<div>\n",
       "<style scoped>\n",
       "    .dataframe tbody tr th:only-of-type {\n",
       "        vertical-align: middle;\n",
       "    }\n",
       "\n",
       "    .dataframe tbody tr th {\n",
       "        vertical-align: top;\n",
       "    }\n",
       "\n",
       "    .dataframe thead th {\n",
       "        text-align: right;\n",
       "    }\n",
       "</style>\n",
       "<table border=\"1\" class=\"dataframe\">\n",
       "  <thead>\n",
       "    <tr style=\"text-align: right;\">\n",
       "      <th></th>\n",
       "      <th>pos_x</th>\n",
       "      <th>pos_y</th>\n",
       "      <th>pos_z</th>\n",
       "      <th>orient_x</th>\n",
       "      <th>orient_y</th>\n",
       "      <th>orient_z</th>\n",
       "      <th>orient_w</th>\n",
       "      <th>duration</th>\n",
       "    </tr>\n",
       "  </thead>\n",
       "  <tbody>\n",
       "    <tr>\n",
       "      <th>0</th>\n",
       "      <td>0.5</td>\n",
       "      <td>-0.3</td>\n",
       "      <td>0.3</td>\n",
       "      <td>1</td>\n",
       "      <td>0</td>\n",
       "      <td>0</td>\n",
       "      <td>0</td>\n",
       "      <td>5</td>\n",
       "    </tr>\n",
       "    <tr>\n",
       "      <th>1</th>\n",
       "      <td>0.5</td>\n",
       "      <td>0.3</td>\n",
       "      <td>0.3</td>\n",
       "      <td>1</td>\n",
       "      <td>0</td>\n",
       "      <td>0</td>\n",
       "      <td>0</td>\n",
       "      <td>5</td>\n",
       "    </tr>\n",
       "    <tr>\n",
       "      <th>2</th>\n",
       "      <td>-0.1</td>\n",
       "      <td>0.3</td>\n",
       "      <td>0.3</td>\n",
       "      <td>1</td>\n",
       "      <td>0</td>\n",
       "      <td>0</td>\n",
       "      <td>0</td>\n",
       "      <td>5</td>\n",
       "    </tr>\n",
       "    <tr>\n",
       "      <th>3</th>\n",
       "      <td>-0.1</td>\n",
       "      <td>-0.3</td>\n",
       "      <td>0.3</td>\n",
       "      <td>1</td>\n",
       "      <td>0</td>\n",
       "      <td>0</td>\n",
       "      <td>0</td>\n",
       "      <td>5</td>\n",
       "    </tr>\n",
       "  </tbody>\n",
       "</table>\n",
       "</div>"
      ],
      "text/plain": [
       "   pos_x  pos_y  pos_z  orient_x  orient_y  orient_z  orient_w  duration\n",
       "0    0.5   -0.3    0.3         1         0         0         0         5\n",
       "1    0.5    0.3    0.3         1         0         0         0         5\n",
       "2   -0.1    0.3    0.3         1         0         0         0         5\n",
       "3   -0.1   -0.3    0.3         1         0         0         0         5"
      ]
     },
     "metadata": {},
     "output_type": "display_data"
    },
    {
     "data": {
      "text/html": [
       "<div>\n",
       "<style scoped>\n",
       "    .dataframe tbody tr th:only-of-type {\n",
       "        vertical-align: middle;\n",
       "    }\n",
       "\n",
       "    .dataframe tbody tr th {\n",
       "        vertical-align: top;\n",
       "    }\n",
       "\n",
       "    .dataframe thead th {\n",
       "        text-align: right;\n",
       "    }\n",
       "</style>\n",
       "<table border=\"1\" class=\"dataframe\">\n",
       "  <thead>\n",
       "    <tr style=\"text-align: right;\">\n",
       "      <th></th>\n",
       "      <th>pos_x</th>\n",
       "      <th>pos_y</th>\n",
       "      <th>pos_z</th>\n",
       "      <th>orient_x</th>\n",
       "      <th>orient_y</th>\n",
       "      <th>orient_z</th>\n",
       "      <th>orient_w</th>\n",
       "      <th>duration</th>\n",
       "    </tr>\n",
       "  </thead>\n",
       "  <tbody>\n",
       "    <tr>\n",
       "      <th>0</th>\n",
       "      <td>0.5</td>\n",
       "      <td>0.0</td>\n",
       "      <td>0.3</td>\n",
       "      <td>1</td>\n",
       "      <td>0</td>\n",
       "      <td>0</td>\n",
       "      <td>0</td>\n",
       "      <td>20</td>\n",
       "    </tr>\n",
       "  </tbody>\n",
       "</table>\n",
       "</div>"
      ],
      "text/plain": [
       "   pos_x  pos_y  pos_z  orient_x  orient_y  orient_z  orient_w  duration\n",
       "0    0.5    0.0    0.3         1         0         0         0        20"
      ]
     },
     "metadata": {},
     "output_type": "display_data"
    }
   ],
   "source": [
    "ee_position_df = pd.read_csv('positions_ee.txt', header=0)\n",
    "obstacle_position_df = pd.read_csv('positions_obstacle.txt', header=0)\n",
    "display(ee_position_df)\n",
    "display(obstacle_position_df)"
   ]
  },
  {
   "cell_type": "code",
   "execution_count": 4,
   "metadata": {},
   "outputs": [
    {
     "name": "stdout",
     "output_type": "stream",
     "text": [
      "rostopic pub /obstacle geometry_msgs/PoseStamped  '{pose: {position:  {x: 0.5, y: 0.0, z: 0.3}, orientation: {x: 1.0,y: 0.0,z: 0.0, w: 0.0}}}'\n",
      "['rostopic', 'pub', '/end_effector_pose_desired', 'geometry_msgs/PoseStamped', '{pose: {position:  {x: 0.5, y: -0.3, z: 0.3}, orientation: {x: 1.0,y: 0.0,z: 0.0, w: 0.0}}}']\n",
      "['rostopic', 'pub', '/end_effector_pose_desired', 'geometry_msgs/PoseStamped', '{pose: {position:  {x: 0.5, y: 0.3, z: 0.3}, orientation: {x: 1.0,y: 0.0,z: 0.0, w: 0.0}}}']\n",
      "['rostopic', 'pub', '/end_effector_pose_desired', 'geometry_msgs/PoseStamped', '{pose: {position:  {x: -0.1, y: 0.3, z: 0.3}, orientation: {x: 1.0,y: 0.0,z: 0.0, w: 0.0}}}']\n",
      "['rostopic', 'pub', '/end_effector_pose_desired', 'geometry_msgs/PoseStamped', '{pose: {position:  {x: -0.1, y: -0.3, z: 0.3}, orientation: {x: 1.0,y: 0.0,z: 0.0, w: 0.0}}}']\n"
     ]
    }
   ],
   "source": [
    "start_time = datetime.datetime.now()\n",
    "end_time = start_time + datetime.timedelta(0,int(ee_position_df['duration'].iloc[-1]))\n",
    "\n",
    "for idx in range(0, ee_position_df.shape[0]):\n",
    "    if (idx==0):\n",
    "        input_list = [str(e) for e in obstacle_position_df.iloc[idx,:-1].values.tolist()]\n",
    "        cmd_string_obst = get_cmd_string(input_list, mode='obst')\n",
    "        print(cmd_string_obst)\n",
    "        \n",
    "        \n",
    "    input_list = [str(e) for e in ee_position_df.iloc[idx,:-1].values.tolist()]\n",
    "    cmd_string_ee = get_cmd_string(input_list, mode='ee')         \n",
    "    cmd_args_ee = shlex.split(cmd_string_ee, comments=True)\n",
    "    print(cmd_args_ee)"
   ]
  },
  {
   "cell_type": "code",
   "execution_count": 6,
   "metadata": {},
   "outputs": [
    {
     "name": "stdout",
     "output_type": "stream",
     "text": [
      "rostopic pub /end_effector_pose_desired geometry_msgs/PoseStamped  '{pose: {position:  {x: -0.1, y: -0.3, z: 0.3}, orientation: {x: 1.0,y: 0.0,z: 0.0, w: 0.0}}}'\n",
      "b''\n"
     ]
    }
   ],
   "source": [
    "print(cmd_string_ee)\n",
    "proc = subprocess.Popen(cmd_string_ee, stdout=subprocess.PIPE, shell=True,start_new_session=True)\n",
    "stdout = proc.communicate()[0]\n",
    "print(stdout)"
   ]
  },
  {
   "cell_type": "code",
   "execution_count": 67,
   "metadata": {},
   "outputs": [
    {
     "ename": "CalledProcessError",
     "evalue": "Command '['rostopic', 'pub', '/end_effecte_desired', 'geometry_msgs/PoseStamped', '{pose: {position:  {x: -0.1, y: -0.3, z: 0.3}, orientation: {x: 1.0,y: 0.0,z: 0.0, w: 0.0}}}']' returned non-zero exit status 127.",
     "output_type": "error",
     "traceback": [
      "\u001b[0;31m---------------------------------------------------------------------------\u001b[0m",
      "\u001b[0;31mCalledProcessError\u001b[0m                        Traceback (most recent call last)",
      "\u001b[0;32m<ipython-input-67-5b217a303700>\u001b[0m in \u001b[0;36m<module>\u001b[0;34m\u001b[0m\n\u001b[0;32m----> 1\u001b[0;31m \u001b[0msubprocess\u001b[0m\u001b[0;34m.\u001b[0m\u001b[0mrun\u001b[0m\u001b[0;34m(\u001b[0m\u001b[0mshlex\u001b[0m\u001b[0;34m.\u001b[0m\u001b[0msplit\u001b[0m\u001b[0;34m(\u001b[0m\u001b[0mcmd_string_ee\u001b[0m\u001b[0;34m,\u001b[0m \u001b[0mcomments\u001b[0m\u001b[0;34m=\u001b[0m\u001b[0;32mTrue\u001b[0m\u001b[0;34m)\u001b[0m\u001b[0;34m,\u001b[0m \u001b[0mshell\u001b[0m\u001b[0;34m=\u001b[0m\u001b[0;32mTrue\u001b[0m\u001b[0;34m,\u001b[0m \u001b[0mcheck\u001b[0m\u001b[0;34m=\u001b[0m\u001b[0;32mTrue\u001b[0m\u001b[0;34m)\u001b[0m\u001b[0;34m\u001b[0m\u001b[0;34m\u001b[0m\u001b[0m\n\u001b[0m",
      "\u001b[0;32m/snap/jupyter/6/lib/python3.7/subprocess.py\u001b[0m in \u001b[0;36mrun\u001b[0;34m(input, capture_output, timeout, check, *popenargs, **kwargs)\u001b[0m\n\u001b[1;32m    485\u001b[0m         \u001b[0;32mif\u001b[0m \u001b[0mcheck\u001b[0m \u001b[0;32mand\u001b[0m \u001b[0mretcode\u001b[0m\u001b[0;34m:\u001b[0m\u001b[0;34m\u001b[0m\u001b[0;34m\u001b[0m\u001b[0m\n\u001b[1;32m    486\u001b[0m             raise CalledProcessError(retcode, process.args,\n\u001b[0;32m--> 487\u001b[0;31m                                      output=stdout, stderr=stderr)\n\u001b[0m\u001b[1;32m    488\u001b[0m     \u001b[0;32mreturn\u001b[0m \u001b[0mCompletedProcess\u001b[0m\u001b[0;34m(\u001b[0m\u001b[0mprocess\u001b[0m\u001b[0;34m.\u001b[0m\u001b[0margs\u001b[0m\u001b[0;34m,\u001b[0m \u001b[0mretcode\u001b[0m\u001b[0;34m,\u001b[0m \u001b[0mstdout\u001b[0m\u001b[0;34m,\u001b[0m \u001b[0mstderr\u001b[0m\u001b[0;34m)\u001b[0m\u001b[0;34m\u001b[0m\u001b[0;34m\u001b[0m\u001b[0m\n\u001b[1;32m    489\u001b[0m \u001b[0;34m\u001b[0m\u001b[0m\n",
      "\u001b[0;31mCalledProcessError\u001b[0m: Command '['rostopic', 'pub', '/end_effecte_desired', 'geometry_msgs/PoseStamped', '{pose: {position:  {x: -0.1, y: -0.3, z: 0.3}, orientation: {x: 1.0,y: 0.0,z: 0.0, w: 0.0}}}']' returned non-zero exit status 127."
     ]
    }
   ],
   "source": [
    "subprocess.run(, shell=True, check=True)"
   ]
  },
  {
   "cell_type": "code",
   "execution_count": 72,
   "metadata": {},
   "outputs": [
    {
     "data": {
      "text/plain": [
       "32256"
      ]
     },
     "execution_count": 72,
     "metadata": {},
     "output_type": "execute_result"
    }
   ],
   "source": [
    "bashCommand = \"/bin/bash echo 'hello'\"\n",
    "os.system(bashCommand)"
   ]
  },
  {
   "cell_type": "code",
   "execution_count": 11,
   "metadata": {},
   "outputs": [
    {
     "name": "stdout",
     "output_type": "stream",
     "text": [
      "(b'positions_ee.txt\\npositions_obstacle.txt\\nscript_notebook.ipynb\\ntesting_script.py\\n', None)\n"
     ]
    }
   ],
   "source": [
    "proc = subprocess.Popen(\"ls\", stdout=subprocess.PIPE, shell=True,start_new_session=True)\n",
    "stdout = proc.communicate()\n",
    "print(stdout)"
   ]
  },
  {
   "cell_type": "code",
   "execution_count": null,
   "metadata": {},
   "outputs": [],
   "source": []
  }
 ],
 "metadata": {
  "kernelspec": {
   "display_name": "Python 3",
   "language": "python",
   "name": "python3"
  },
  "language_info": {
   "codemirror_mode": {
    "name": "ipython",
    "version": 3
   },
   "file_extension": ".py",
   "mimetype": "text/x-python",
   "name": "python",
   "nbconvert_exporter": "python",
   "pygments_lexer": "ipython3",
   "version": "3.7.3"
  }
 },
 "nbformat": 4,
 "nbformat_minor": 2
}
