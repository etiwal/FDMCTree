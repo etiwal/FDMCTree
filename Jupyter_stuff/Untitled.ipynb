{
 "cells": [
  {
   "cell_type": "code",
   "execution_count": 9,
   "metadata": {},
   "outputs": [
    {
     "ename": "ImportError",
     "evalue": "libX11.so.6: cannot open shared object file: No such file or directory",
     "output_type": "error",
     "traceback": [
      "\u001b[0;31m---------------------------------------------------------------------------\u001b[0m",
      "\u001b[0;31mImportError\u001b[0m                               Traceback (most recent call last)",
      "\u001b[0;32m<ipython-input-9-29b37e014535>\u001b[0m in \u001b[0;36m<module>\u001b[0;34m\u001b[0m\n\u001b[0;32m----> 1\u001b[0;31m \u001b[0;32mimport\u001b[0m \u001b[0mtkinter\u001b[0m\u001b[0;34m\u001b[0m\u001b[0;34m\u001b[0m\u001b[0m\n\u001b[0m",
      "\u001b[0;32m/snap/jupyter/6/lib/python3.7/tkinter/__init__.py\u001b[0m in \u001b[0;36m<module>\u001b[0;34m\u001b[0m\n\u001b[1;32m     34\u001b[0m \u001b[0;32mimport\u001b[0m \u001b[0msys\u001b[0m\u001b[0;34m\u001b[0m\u001b[0;34m\u001b[0m\u001b[0m\n\u001b[1;32m     35\u001b[0m \u001b[0;34m\u001b[0m\u001b[0m\n\u001b[0;32m---> 36\u001b[0;31m \u001b[0;32mimport\u001b[0m \u001b[0m_tkinter\u001b[0m \u001b[0;31m# If this fails your Python may not be configured for Tk\u001b[0m\u001b[0;34m\u001b[0m\u001b[0;34m\u001b[0m\u001b[0m\n\u001b[0m\u001b[1;32m     37\u001b[0m \u001b[0mTclError\u001b[0m \u001b[0;34m=\u001b[0m \u001b[0m_tkinter\u001b[0m\u001b[0;34m.\u001b[0m\u001b[0mTclError\u001b[0m\u001b[0;34m\u001b[0m\u001b[0;34m\u001b[0m\u001b[0m\n\u001b[1;32m     38\u001b[0m \u001b[0;32mfrom\u001b[0m \u001b[0mtkinter\u001b[0m\u001b[0;34m.\u001b[0m\u001b[0mconstants\u001b[0m \u001b[0;32mimport\u001b[0m \u001b[0;34m*\u001b[0m\u001b[0;34m\u001b[0m\u001b[0;34m\u001b[0m\u001b[0m\n",
      "\u001b[0;31mImportError\u001b[0m: libX11.so.6: cannot open shared object file: No such file or directory"
     ]
    }
   ],
   "source": [
    "import tkinter"
   ]
  },
  {
   "cell_type": "code",
   "execution_count": 8,
   "metadata": {},
   "outputs": [
    {
     "ename": "ImportError",
     "evalue": "libX11.so.6: cannot open shared object file: No such file or directory",
     "output_type": "error",
     "traceback": [
      "\u001b[0;31m---------------------------------------------------------------------------\u001b[0m",
      "\u001b[0;31mImportError\u001b[0m                               Traceback (most recent call last)",
      "\u001b[0;32m<ipython-input-8-1c1f7a80346e>\u001b[0m in \u001b[0;36m<module>\u001b[0;34m\u001b[0m\n\u001b[0;32m----> 1\u001b[0;31m \u001b[0;32mfrom\u001b[0m \u001b[0mtkinter\u001b[0m \u001b[0;32mimport\u001b[0m \u001b[0;34m*\u001b[0m\u001b[0;34m\u001b[0m\u001b[0;34m\u001b[0m\u001b[0m\n\u001b[0m\u001b[1;32m      2\u001b[0m \u001b[0;34m\u001b[0m\u001b[0m\n\u001b[1;32m      3\u001b[0m \u001b[0;32mclass\u001b[0m \u001b[0mCell\u001b[0m\u001b[0;34m(\u001b[0m\u001b[0;34m)\u001b[0m\u001b[0;34m:\u001b[0m\u001b[0;34m\u001b[0m\u001b[0;34m\u001b[0m\u001b[0m\n\u001b[1;32m      4\u001b[0m     \u001b[0mFILLED_COLOR_BG\u001b[0m \u001b[0;34m=\u001b[0m \u001b[0;34m\"green\"\u001b[0m\u001b[0;34m\u001b[0m\u001b[0;34m\u001b[0m\u001b[0m\n\u001b[1;32m      5\u001b[0m     \u001b[0mEMPTY_COLOR_BG\u001b[0m \u001b[0;34m=\u001b[0m \u001b[0;34m\"white\"\u001b[0m\u001b[0;34m\u001b[0m\u001b[0;34m\u001b[0m\u001b[0m\n",
      "\u001b[0;32m/snap/jupyter/6/lib/python3.7/tkinter/__init__.py\u001b[0m in \u001b[0;36m<module>\u001b[0;34m\u001b[0m\n\u001b[1;32m     34\u001b[0m \u001b[0;32mimport\u001b[0m \u001b[0msys\u001b[0m\u001b[0;34m\u001b[0m\u001b[0;34m\u001b[0m\u001b[0m\n\u001b[1;32m     35\u001b[0m \u001b[0;34m\u001b[0m\u001b[0m\n\u001b[0;32m---> 36\u001b[0;31m \u001b[0;32mimport\u001b[0m \u001b[0m_tkinter\u001b[0m \u001b[0;31m# If this fails your Python may not be configured for Tk\u001b[0m\u001b[0;34m\u001b[0m\u001b[0;34m\u001b[0m\u001b[0m\n\u001b[0m\u001b[1;32m     37\u001b[0m \u001b[0mTclError\u001b[0m \u001b[0;34m=\u001b[0m \u001b[0m_tkinter\u001b[0m\u001b[0;34m.\u001b[0m\u001b[0mTclError\u001b[0m\u001b[0;34m\u001b[0m\u001b[0;34m\u001b[0m\u001b[0m\n\u001b[1;32m     38\u001b[0m \u001b[0;32mfrom\u001b[0m \u001b[0mtkinter\u001b[0m\u001b[0;34m.\u001b[0m\u001b[0mconstants\u001b[0m \u001b[0;32mimport\u001b[0m \u001b[0;34m*\u001b[0m\u001b[0;34m\u001b[0m\u001b[0;34m\u001b[0m\u001b[0m\n",
      "\u001b[0;31mImportError\u001b[0m: libX11.so.6: cannot open shared object file: No such file or directory"
     ]
    }
   ],
   "source": [
    "from tkinter import *\n",
    "\n",
    "class Cell():\n",
    "    FILLED_COLOR_BG = \"green\"\n",
    "    EMPTY_COLOR_BG = \"white\"\n",
    "    FILLED_COLOR_BORDER = \"green\"\n",
    "    EMPTY_COLOR_BORDER = \"black\"\n",
    "\n",
    "    def __init__(self, master, x, y, size):\n",
    "        \"\"\" Constructor of the object called by Cell(...) \"\"\"\n",
    "        self.master = master\n",
    "        self.abs = x\n",
    "        self.ord = y\n",
    "        self.size= size\n",
    "        self.fill= False\n",
    "\n",
    "    def _switch(self):\n",
    "        \"\"\" Switch if the cell is filled or not. \"\"\"\n",
    "        self.fill= not self.fill\n",
    "\n",
    "    def draw(self):\n",
    "        \"\"\" order to the cell to draw its representation on the canvas \"\"\"\n",
    "        if self.master != None :\n",
    "            fill = Cell.FILLED_COLOR_BG\n",
    "            outline = Cell.FILLED_COLOR_BORDER\n",
    "\n",
    "            if not self.fill:\n",
    "                fill = Cell.EMPTY_COLOR_BG\n",
    "                outline = Cell.EMPTY_COLOR_BORDER\n",
    "\n",
    "            xmin = self.abs * self.size\n",
    "            xmax = xmin + self.size\n",
    "            ymin = self.ord * self.size\n",
    "            ymax = ymin + self.size\n",
    "\n",
    "            self.master.create_rectangle(xmin, ymin, xmax, ymax, fill = fill, outline = outline)\n",
    "\n",
    "class CellGrid(Canvas):\n",
    "    def __init__(self,master, rowNumber, columnNumber, cellSize, *args, **kwargs):\n",
    "        Canvas.__init__(self, master, width = cellSize * columnNumber , height = cellSize * rowNumber, *args, **kwargs)\n",
    "\n",
    "        self.cellSize = cellSize\n",
    "\n",
    "        self.grid = []\n",
    "        for row in range(rowNumber):\n",
    "\n",
    "            line = []\n",
    "            for column in range(columnNumber):\n",
    "                line.append(Cell(self, column, row, cellSize))\n",
    "\n",
    "            self.grid.append(line)\n",
    "\n",
    "        #memorize the cells that have been modified to avoid many switching of state during mouse motion.\n",
    "        self.switched = []\n",
    "\n",
    "        #bind click action\n",
    "        self.bind(\"<Button-1>\", self.handleMouseClick)  \n",
    "        #bind moving while clicking\n",
    "        self.bind(\"<B1-Motion>\", self.handleMouseMotion)\n",
    "        #bind release button action - clear the memory of midified cells.\n",
    "        self.bind(\"<ButtonRelease-1>\", lambda event: self.switched.clear())\n",
    "\n",
    "        self.draw()\n",
    "\n",
    "\n",
    "\n",
    "    def draw(self):\n",
    "        for row in self.grid:\n",
    "            for cell in row:\n",
    "                cell.draw()\n",
    "\n",
    "    def _eventCoords(self, event):\n",
    "        row = int(event.y / self.cellSize)\n",
    "        column = int(event.x / self.cellSize)\n",
    "        return row, column\n",
    "\n",
    "    def handleMouseClick(self, event):\n",
    "        row, column = self._eventCoords(event)\n",
    "        cell = self.grid[row][column]\n",
    "        cell._switch()\n",
    "        cell.draw()\n",
    "        #add the cell to the list of cell switched during the click\n",
    "        self.switched.append(cell)\n",
    "\n",
    "    def handleMouseMotion(self, event):\n",
    "        row, column = self._eventCoords(event)\n",
    "        cell = self.grid[row][column]\n",
    "\n",
    "        if cell not in self.switched:\n",
    "            cell._switch()\n",
    "            cell.draw()\n",
    "            self.switched.append(cell)\n",
    "\n",
    "\n",
    "if __name__ == \"__main__\" :\n",
    "    app = Tk()\n",
    "\n",
    "    grid = CellGrid(app, 50, 50, 10)\n",
    "    grid.pack()\n",
    "\n",
    "    app.mainloop()"
   ]
  },
  {
   "cell_type": "code",
   "execution_count": null,
   "metadata": {},
   "outputs": [],
   "source": []
  }
 ],
 "metadata": {
  "kernelspec": {
   "display_name": "Python 3",
   "language": "python",
   "name": "python3"
  },
  "language_info": {
   "codemirror_mode": {
    "name": "ipython",
    "version": 3
   },
   "file_extension": ".py",
   "mimetype": "text/x-python",
   "name": "python",
   "nbconvert_exporter": "python",
   "pygments_lexer": "ipython3",
   "version": "3.7.3"
  }
 },
 "nbformat": 4,
 "nbformat_minor": 2
}
